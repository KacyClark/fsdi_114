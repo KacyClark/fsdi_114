{
 "cells": [
  {
   "cell_type": "code",
   "execution_count": 12,
   "id": "4fb4e2b0",
   "metadata": {},
   "outputs": [],
   "source": [
    "class EmptyStackException(Exception):\n",
    "    message = \"Stack empty\"\n",
    "\n",
    "class Node:\n",
    "    def __init__(self, data):\n",
    "        self.data = data\n",
    "        self.above = None\n",
    "\n",
    "class Stack: \n",
    "    def __init__(self):\n",
    "        self.base = None\n",
    "        \n",
    "    def push(self, item):\n",
    "        if not self.base:\n",
    "            self.base = Node(item)\n",
    "        else:\n",
    "            self.base = current\n",
    "            while current.above:  #while current.above != None\n",
    "                 current = current.above\n",
    "            current.above = Node(item)\n",
    "        \n",
    "   \n",
    "    def push(self, item):\n",
    "        if not self.base:\n",
    "            self.base = Node(item)\n",
    "        else:\n",
    "            self.base = current\n",
    "            while current.above:  #while current.above != None\n",
    "                current = current.above\n",
    "            current.above = Node(item)\n",
    "        \n",
    "    def pop(self):\n",
    "        if not self.base:\n",
    "            raise EmptyStackException (\"The stack is empty\")\n",
    "        if not self.base.above:\n",
    "            datum = self.base.data\n",
    "            self.base = None\n",
    "            return datum\n",
    "        current = self.base\n",
    "        prev = None\n",
    "        while current.above:  \n",
    "            prev = current\n",
    "            current = current.above\n",
    "        datum = current.data\n",
    "        prev.above = None\n",
    "        return datum\n",
    "                \n",
    "    \n",
    "    def is_empty(self):\n",
    "        if not self.base:\n",
    "            return True\n",
    "        return False\n",
    "    \n",
    "    def getSize(self):\n",
    "        return self.size\n",
    "    \n",
    "    def peek(self):\n",
    "        if stack:\n",
    "            return stack[-1]\n",
    "        else:\n",
    "            return None\n",
    "    \n",
    "    def is_empty(self):\n",
    "        if not self.base:\n",
    "            return True\n",
    "        return False\n",
    "    \n",
    "   "
   ]
  },
  {
   "cell_type": "code",
   "execution_count": null,
   "id": "fab656d0",
   "metadata": {},
   "outputs": [],
   "source": [
    "def invert(mystring):\n",
    "    stack = Stack()\n",
    "    out = \"\"\n",
    "    for letter in mystring:\n",
    "        stack.push(letter)\n",
    "    while not stack.is_empty():\n",
    "        out += stack.pop()\n",
    "    return out"
   ]
  },
  {
   "cell_type": "markdown",
   "id": "7db83c03",
   "metadata": {},
   "source": [
    "o = invert(\"Rafael\")\n",
    "print(o)\n"
   ]
  },
  {
   "cell_type": "markdown",
   "id": "50cf3c8f",
   "metadata": {},
   "source": [
    "# Linked Lists\n",
    "\n",
    "### Linked lists are data structures composed of nodes in which each node must know the following node's address (via a pointer)\n",
    "\n",
    "#### There are two main types of linked lists:\n",
    "\n",
    "1.  Singly linked lists: lists that can only be traversed in a single direction.\n",
    "2.  Doubly linked lists: lists that can be traversed in two directions (forward and backward)."
   ]
  },
  {
   "cell_type": "code",
   "execution_count": null,
   "id": "5b3125fe",
   "metadata": {},
   "outputs": [],
   "source": []
  }
 ],
 "metadata": {
  "kernelspec": {
   "display_name": "Python 3 (ipykernel)",
   "language": "python",
   "name": "python3"
  },
  "language_info": {
   "codemirror_mode": {
    "name": "ipython",
    "version": 3
   },
   "file_extension": ".py",
   "mimetype": "text/x-python",
   "name": "python",
   "nbconvert_exporter": "python",
   "pygments_lexer": "ipython3",
   "version": "3.8.10"
  }
 },
 "nbformat": 4,
 "nbformat_minor": 5
}
