{
 "cells": [
  {
   "cell_type": "markdown",
   "id": "838004d4",
   "metadata": {},
   "source": [
    "for letter in 'Hello World!':\n",
    "    print(letter)\n",
    "    "
   ]
  },
  {
   "cell_type": "code",
   "execution_count": 2,
   "id": "724aa8c1",
   "metadata": {},
   "outputs": [
    {
     "ename": "SyntaxError",
     "evalue": "invalid syntax (2890735370.py, line 1)",
     "output_type": "error",
     "traceback": [
      "\u001b[0;36m  Input \u001b[0;32mIn [2]\u001b[0;36m\u001b[0m\n\u001b[0;31m    Given two strings (string_a and string_b) let's check whether or not these are anagrams of each other  Must have the following criteria:\u001b[0m\n\u001b[0m          ^\u001b[0m\n\u001b[0;31mSyntaxError\u001b[0m\u001b[0;31m:\u001b[0m invalid syntax\n"
     ]
    }
   ],
   "source": [
    "Given two strings (string_a and string_b) let's check whether or not these are anagrams of each other  Must have the following criteria:#### \n",
    "\n",
    "1.  They must be exactly of same length.\n",
    "2. They must use the exact same characters (no more, no less)\n",
    "Example: cars and scar, heart and earth, etc.\n",
    "    "
   ]
  },
  {
   "cell_type": "code",
   "execution_count": null,
   "id": "1fd477d6",
   "metadata": {},
   "outputs": [],
   "source": [
    "#  Instructions: populate the function below, so that it returns True if the parameters are anagrams"
   ]
  }
 ],
 "metadata": {
  "kernelspec": {
   "display_name": "Python 3 (ipykernel)",
   "language": "python",
   "name": "python3"
  },
  "language_info": {
   "codemirror_mode": {
    "name": "ipython",
    "version": 3
   },
   "file_extension": ".py",
   "mimetype": "text/x-python",
   "name": "python",
   "nbconvert_exporter": "python",
   "pygments_lexer": "ipython3",
   "version": "3.8.10"
  }
 },
 "nbformat": 4,
 "nbformat_minor": 5
}
